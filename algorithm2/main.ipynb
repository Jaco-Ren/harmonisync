{
 "cells": [
  {
   "cell_type": "code",
   "execution_count": 5,
   "metadata": {},
   "outputs": [],
   "source": [
    "#from inputToXml import parse, audi, xmlToAudio\n",
    "#from harmAnalyze import harmAnal7 \n",
    "#from harmToTab import lily4\n",
    "\n",
    "import inputToXml as ixml\n",
    "import harmAnalyze as harm\n",
    "import harmToTab as tab\n",
    "from music21 import *\n",
    "\n",
    "i = 0"
   ]
  },
  {
   "cell_type": "code",
   "execution_count": 1,
   "metadata": {},
   "outputs": [],
   "source": [
    "def readInput(input):\n",
    "    try:\n",
    "        output = ixml.parse(input)\n",
    "        i = 1\n",
    "    except Exception as e:\n",
    "        try:\n",
    "            output = ixml.convert_image_to_musicxm(input, \"/Users/tao-taohe/Desktop/harmoniSync/algorithm/temp\")\n",
    "            i = 2\n",
    "        except Exception as e:\n",
    "            print(\"cannot process file\")\n",
    "            return\n",
    "    \n",
    "    return ixml.convert_to_audio(output, \"/Users/tao-taohe/Desktop/harmoniSync/algorithm/temp\")"
   ]
  },
  {
   "cell_type": "code",
   "execution_count": null,
   "metadata": {},
   "outputs": [],
   "source": [
    "def toHarm(input):\n",
    "    if i == 1:\n",
    "        output = ixml.parse(input)\n",
    "    elif i == 2:\n",
    "        output = ixml.convert_image_to_musicxm(input, \"/Users/tao-taohe/Desktop/harmoniSync/algorithm/temp\")\n",
    "    mus = converter.parse(output)\n",
    "    ha = harm.analyze(mus)\n",
    "    return ha"
   ]
  },
  {
   "cell_type": "code",
   "execution_count": null,
   "metadata": {},
   "outputs": [],
   "source": [
    "def toTab(ha):\n",
    "    guitar = harm.guitarScore(ha)\n",
    "    tabs = tab.staff2tab(guitar)\n",
    "    return tabs"
   ]
  }
 ],
 "metadata": {
  "kernelspec": {
   "display_name": "Python 3",
   "language": "python",
   "name": "python3"
  },
  "language_info": {
   "codemirror_mode": {
    "name": "ipython",
    "version": 3
   },
   "file_extension": ".py",
   "mimetype": "text/x-python",
   "name": "python",
   "nbconvert_exporter": "python",
   "pygments_lexer": "ipython3",
   "version": "3.9.6"
  },
  "orig_nbformat": 4,
  "vscode": {
   "interpreter": {
    "hash": "31f2aee4e71d21fbe5cf8b01ff0e069b9275f58929596ceb00d14d90e3e16cd6"
   }
  }
 },
 "nbformat": 4,
 "nbformat_minor": 2
}
