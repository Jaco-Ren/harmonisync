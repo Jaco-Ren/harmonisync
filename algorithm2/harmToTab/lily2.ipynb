{
 "cells": [
  {
   "cell_type": "code",
   "execution_count": 8,
   "metadata": {},
   "outputs": [],
   "source": [
    "from music21 import *"
   ]
  },
  {
   "cell_type": "code",
   "execution_count": 15,
   "metadata": {},
   "outputs": [],
   "source": [
    "from music21 import *\n",
    "\n",
    "def musicxml2ly(score):\n",
    "    file_path = '/Users/tao-taohe/Desktop/harmoniSync/algorithm/harmToTab/output.ly'\n",
    "    # Write the score to a LilyPond file at the specified output path\n",
    "    score.write('lilypond', fp=file_path)\n",
    "\n",
    "    # Read the content of the written file as a string\n",
    "    with open(file_path, 'r', encoding='utf-8') as f:\n",
    "        ly_content = f.read()\n",
    "\n",
    "    # Define the lines to comment out\n",
    "    lines_to_comment = [\n",
    "        r'\\include \"lilypond-book-preamble.ly\"',\n",
    "        r'color = #(define-music-function (parser location color) (string?) #{',\n",
    "        r'    \\once \\override NoteHead #\\'color = #(x11-color color)',\n",
    "        r'    \\once \\override Stem #\\'color = #(x11-color color)',\n",
    "        r'    \\once \\override Rest #\\'color = #(x11-color color)',\n",
    "        r'    \\once \\override Beam #\\'color = #(x11-color color)',\n",
    "        r'#{'\n",
    "    ]\n",
    "\n",
    "    # Comment out the specified lines\n",
    "    for line in lines_to_comment:\n",
    "        ly_content = ly_content.replace(line, f'% {line}')\n",
    "    \n",
    "    return ly_content\n",
    "\n",
    "# Example usage\n",
    "musicxml_file_path = '/Users/tao-taohe/Desktop/harmoniSync/algorithm/harmAnalyze/moses.musicxml'\n",
    "score = converter.parse(musicxml_file_path)\n",
    "scoreLy = musicxml2ly(score)\n",
    "\n",
    "# Write the modified LilyPond file to disk\n",
    "output_file_path = '/Users/tao-taohe/Desktop/harmoniSync/algorithm/harmToTab/moses.ly'  # Ensure this directory is writable\n",
    "with open(output_file_path, 'w') as ly_file:\n",
    "    ly_file.write(scoreLy)\n",
    "\n"
   ]
  }
 ],
 "metadata": {
  "kernelspec": {
   "display_name": "Python 3",
   "language": "python",
   "name": "python3"
  },
  "language_info": {
   "codemirror_mode": {
    "name": "ipython",
    "version": 3
   },
   "file_extension": ".py",
   "mimetype": "text/x-python",
   "name": "python",
   "nbconvert_exporter": "python",
   "pygments_lexer": "ipython3",
   "version": "3.9.6"
  },
  "orig_nbformat": 4,
  "vscode": {
   "interpreter": {
    "hash": "31f2aee4e71d21fbe5cf8b01ff0e069b9275f58929596ceb00d14d90e3e16cd6"
   }
  }
 },
 "nbformat": 4,
 "nbformat_minor": 2
}
