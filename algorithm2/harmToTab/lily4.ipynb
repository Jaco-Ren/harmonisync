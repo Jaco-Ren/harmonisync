{
 "cells": [
  {
   "cell_type": "code",
   "execution_count": 1,
   "metadata": {},
   "outputs": [],
   "source": [
    "import re\n",
    "import os\n",
    "from music21 import *\n",
    "\n",
    "def musicxml2ly(score):\n",
    "    file_path = '/Users/tao-taohe/Desktop/harmoniSync/algorithm/harmToTab/output.ly'\n",
    "    # Write the score to a LilyPond file at the specified output path\n",
    "    score.write('lilypond', fp=file_path)\n",
    "\n",
    "    # Read the content of the written file as a string\n",
    "    with open(file_path, 'r', encoding='utf-8') as f:\n",
    "        ly_content = f.read()\n",
    "\n",
    "    # Define the lines to comment out\n",
    "    lines_to_comment = [\n",
    "        r'\\include \"lilypond-book-preamble.ly\"',\n",
    "        r'color = #(define-music-function (parser location color) (string?) #{',\n",
    "        r'    \\once \\override NoteHead #\\'color = #(x11-color color)',\n",
    "        r'    \\once \\override Stem #\\'color = #(x11-color color)',\n",
    "        r'    \\once \\override Rest #\\'color = #(x11-color color)',\n",
    "        r'    \\once \\override Beam #\\'color = #(x11-color color)',\n",
    "        r'#{'\n",
    "    ]\n",
    "\n",
    "    # Comment out the specified lines\n",
    "    for line in lines_to_comment:\n",
    "        ly_content = ly_content.replace(line, f'% {line}')\n",
    "    \n",
    "    return ly_content"
   ]
  },
  {
   "cell_type": "code",
   "execution_count": 2,
   "metadata": {},
   "outputs": [],
   "source": [
    "class LilypondFile:\n",
    "    def __init__(self):\n",
    "        # Initialize an empty content attribute\n",
    "        self.content = \"\"\n",
    "\n",
    "    # Method to load content from a file\n",
    "    def load_from_file(self, filename):\n",
    "        with open(filename, 'r') as file:\n",
    "            # Store the file content in the instance's 'content' variable\n",
    "            self.content = file.read()\n",
    "\n",
    "    # Method to display the loaded content\n",
    "    def display_content(self):\n",
    "        return self.content"
   ]
  },
  {
   "cell_type": "code",
   "execution_count": 13,
   "metadata": {},
   "outputs": [],
   "source": [
    "def staff2tab(ly_content):\n",
    "    # Define a regex pattern to match the staff declaration\n",
    "    staff_pattern = r'<<\\s*\\\\new Staff\\s*=\\s*ViolingI\\s*{([^}]*)'\n",
    "\n",
    "    # Define the replacement string\n",
    "    replacement = r'<<\\\\new TabStaff = \"Guitar Tab\" {\\n\\\\clef \"tab\" % Clef for tab staff\\n'\n",
    "\n",
    "    # Replace using regex\n",
    "    ly_content = re.sub(staff_pattern, replacement, ly_content, flags=re.DOTALL)\n",
    "\n",
    "    # There is an extra '}', so...\n",
    "\n",
    "    # Function to remove the third occurrence of '}'\n",
    "    def remove_third_brace(s):\n",
    "        # Find all occurrences and keep track of how many we’ve seen\n",
    "        def replace_third(match):\n",
    "            nonlocal count\n",
    "            count += 1\n",
    "            return '' if count == 3 else match.group(0)\n",
    "\n",
    "        count = 0\n",
    "        modified_string = re.sub(r'}', replace_third, s)\n",
    "        return modified_string\n",
    "\n",
    "    ly_content = remove_third_brace(ly_content)\n",
    "\n",
    "    return ly_content"
   ]
  },
  {
   "cell_type": "code",
   "execution_count": 14,
   "metadata": {},
   "outputs": [],
   "source": [
    "moses = LilypondFile()\n",
    "moses.load_from_file('/Users/tao-taohe/Desktop/harmoniSync/algorithm/harmToTab/moses.ly')\n",
    "mosesTab = staff2tab(moses.content)\n",
    "\n",
    "output_file_path = '/Users/tao-taohe/Desktop/harmoniSync/algorithm/harmToTab/mosesTab4.ly'\n",
    "with open(output_file_path, 'w') as ly_file:\n",
    "    ly_file.write(mosesTab)"
   ]
  }
 ],
 "metadata": {
  "kernelspec": {
   "display_name": "base",
   "language": "python",
   "name": "python3"
  },
  "language_info": {
   "codemirror_mode": {
    "name": "ipython",
    "version": 3
   },
   "file_extension": ".py",
   "mimetype": "text/x-python",
   "name": "python",
   "nbconvert_exporter": "python",
   "pygments_lexer": "ipython3",
   "version": "3.11.7 (main, Dec 15 2023, 12:09:04) [Clang 14.0.6 ]"
  },
  "orig_nbformat": 4,
  "vscode": {
   "interpreter": {
    "hash": "f92e0feefb3ac46f88cc3a9e42d1403950e5e388ec02e70a7d86d360e4ebe2df"
   }
  }
 },
 "nbformat": 4,
 "nbformat_minor": 2
}
