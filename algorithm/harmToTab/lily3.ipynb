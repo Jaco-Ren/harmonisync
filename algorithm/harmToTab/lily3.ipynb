{
 "cells": [
  {
   "cell_type": "code",
   "execution_count": 1,
   "metadata": {},
   "outputs": [],
   "source": [
    "import re\n",
    "import os"
   ]
  },
  {
   "cell_type": "code",
   "execution_count": 2,
   "metadata": {},
   "outputs": [
    {
     "name": "stderr",
     "output_type": "stream",
     "text": [
      "/Users/tao-taohe/Library/Python/3.9/lib/python/site-packages/urllib3/__init__.py:35: NotOpenSSLWarning: urllib3 v2 only supports OpenSSL 1.1.1+, currently the 'ssl' module is compiled with 'LibreSSL 2.8.3'. See: https://github.com/urllib3/urllib3/issues/3020\n",
      "  warnings.warn(\n"
     ]
    }
   ],
   "source": [
    "from music21 import *\n",
    "\n",
    "def musicxml2ly(score):\n",
    "    file_path = '/Users/tao-taohe/Desktop/harmoniSync/algorithm/harmToTab/output.ly'\n",
    "    # Write the score to a LilyPond file at the specified output path\n",
    "    score.write('lilypond', fp=file_path)\n",
    "\n",
    "    # Read the content of the written file as a string\n",
    "    with open(file_path, 'r', encoding='utf-8') as f:\n",
    "        ly_content = f.read()\n",
    "\n",
    "    # Define the lines to comment out\n",
    "    lines_to_comment = [\n",
    "        r'\\include \"lilypond-book-preamble.ly\"',\n",
    "        r'color = #(define-music-function (parser location color) (string?) #{',\n",
    "        r'    \\once \\override NoteHead #\\'color = #(x11-color color)',\n",
    "        r'    \\once \\override Stem #\\'color = #(x11-color color)',\n",
    "        r'    \\once \\override Rest #\\'color = #(x11-color color)',\n",
    "        r'    \\once \\override Beam #\\'color = #(x11-color color)',\n",
    "        r'#{'\n",
    "    ]\n",
    "\n",
    "    # Comment out the specified lines\n",
    "    for line in lines_to_comment:\n",
    "        ly_content = ly_content.replace(line, f'% {line}')\n",
    "    \n",
    "    return ly_content"
   ]
  },
  {
   "cell_type": "code",
   "execution_count": 17,
   "metadata": {},
   "outputs": [],
   "source": [
    "class LilypondFile:\n",
    "    def __init__(self):\n",
    "        # Initialize an empty content attribute\n",
    "        self.content = \"\"\n",
    "\n",
    "    # Method to load content from a file\n",
    "    def load_from_file(self, filename):\n",
    "        with open(filename, 'r') as file:\n",
    "            # Store the file content in the instance's 'content' variable\n",
    "            self.content = file.read()\n",
    "\n",
    "    # Method to display the loaded content\n",
    "    def display_content(self):\n",
    "        return self.content\n"
   ]
  },
  {
   "cell_type": "code",
   "execution_count": 24,
   "metadata": {},
   "outputs": [],
   "source": [
    "def staff2tab(ly_content):\n",
    "    # Define a regex pattern to match the staff declaration\n",
    "    staff_pattern = r'<<\\s*\\\\new Staff\\s*=\\s*ViolingI\\s*{([^}]*)'\n",
    "\n",
    "    # Define the replacement string\n",
    "    replacement = r'\\\\new TabStaff = \"Guitar Tab\" {\\n\\\\clef \"tab\" % Clef for tab staff\\n'\n",
    "\n",
    "    # Replace using regex\n",
    "    ly_content = re.sub(staff_pattern, replacement, ly_content, flags=re.DOTALL)\n",
    "\n",
    "    return ly_content\n"
   ]
  },
  {
   "cell_type": "code",
   "execution_count": 22,
   "metadata": {},
   "outputs": [],
   "source": [
    "def staff2tab(ly_content):\n",
    "    # Define a regex pattern to match the 'new Staff' declaration and clef line\n",
    "    staff_pattern = r'(\\\\new Staff\\s*=\\s*\"ViolingI\"\\s*\\{[^}]*\\\\clef\\s*\"treble\")'\n",
    "\n",
    "    # Define the replacement string to switch to 'new TabStaff' and 'clef tab'\n",
    "    replacement = r'\\\\<<new TabStaff = \"Guitar Tab\" {\\n\\\\clef \"tab\"  % Clef for tab staff'\n",
    "\n",
    "    # Replace the staff declaration and clef, preserving the rest of the content\n",
    "    ly_content = re.sub(staff_pattern, replacement, ly_content, flags=re.DOTALL)\n",
    "\n",
    "    return ly_content"
   ]
  },
  {
   "cell_type": "code",
   "execution_count": 25,
   "metadata": {},
   "outputs": [],
   "source": [
    "moses = LilypondFile()\n",
    "moses.load_from_file('/Users/tao-taohe/Desktop/harmoniSync/algorithm/harmToTab/moses.ly')\n",
    "mosesTab = staff2tab(moses.content)\n",
    "\n",
    "output_file_path = '/Users/tao-taohe/Desktop/harmoniSync/algorithm/harmToTab/mosesTab2.ly'\n",
    "with open(output_file_path, 'w') as ly_file:\n",
    "    ly_file.write(mosesTab)"
   ]
  }
 ],
 "metadata": {
  "kernelspec": {
   "display_name": "Python 3",
   "language": "python",
   "name": "python3"
  },
  "language_info": {
   "codemirror_mode": {
    "name": "ipython",
    "version": 3
   },
   "file_extension": ".py",
   "mimetype": "text/x-python",
   "name": "python",
   "nbconvert_exporter": "python",
   "pygments_lexer": "ipython3",
   "version": "3.9.6"
  },
  "orig_nbformat": 4,
  "vscode": {
   "interpreter": {
    "hash": "31f2aee4e71d21fbe5cf8b01ff0e069b9275f58929596ceb00d14d90e3e16cd6"
   }
  }
 },
 "nbformat": 4,
 "nbformat_minor": 2
}
